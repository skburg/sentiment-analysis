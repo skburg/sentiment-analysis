{
 "cells": [
  {
   "cell_type": "markdown",
   "metadata": {},
   "source": [
    "# Sentiment Analysis\n",
    "## This code is to predict whether a movie review is positive or negative based on the text of the review. \n",
    "### This was my capstone project for the Advanced Machine Learning class in the Machine Learning Certificate Program at the University of Washington - Professional and Continuing Education \n",
    "\n",
    "Spencer K'Burg\n",
    "\n",
    "September 2019\n",
    "\n",
    "Much of the word embeddings code is from code that Stuart Owen Axelbrooke shared in his \"A Brief History of Sentiment Classifiers\" presentation to the NLSEA Meetup on 4/8/2019 \n",
    "https://www.meetup.com/PSPPython/events/259884581/\n",
    "\n",
    "* The reviews.csv file was too large to easily upload to Github. \n",
    "* crawl-300d-2M.vec is 4.5 GB. It should be easy to find and download online. "
   ]
  },
  {
   "cell_type": "code",
   "execution_count": 1,
   "metadata": {},
   "outputs": [],
   "source": [
    "import pandas as pd\n",
    "import numpy as np\n",
    "import re\n",
    "import matplotlib.pyplot as plt\n",
    "\n",
    "from sklearn.model_selection import train_test_split\n",
    "from sklearn.metrics import accuracy_score, roc_auc_score, roc_curve, confusion_matrix\n",
    "from sklearn.linear_model import LogisticRegression\n",
    "\n",
    "from gensim.models.keyedvectors import Word2VecKeyedVectors\n",
    "from gensim.models import KeyedVectors\n",
    "\n",
    "from typing import Sequence\n",
    "\n",
    "%matplotlib inline "
   ]
  },
  {
   "cell_type": "code",
   "execution_count": 2,
   "metadata": {},
   "outputs": [],
   "source": [
    "pd.set_option('max_colwidth', 150)"
   ]
  },
  {
   "cell_type": "code",
   "execution_count": 3,
   "metadata": {},
   "outputs": [],
   "source": [
    "data = pd.read_csv('Reviews.csv')"
   ]
  },
  {
   "cell_type": "code",
   "execution_count": 4,
   "metadata": {},
   "outputs": [
    {
     "data": {
      "text/html": [
       "<div>\n",
       "<style scoped>\n",
       "    .dataframe tbody tr th:only-of-type {\n",
       "        vertical-align: middle;\n",
       "    }\n",
       "\n",
       "    .dataframe tbody tr th {\n",
       "        vertical-align: top;\n",
       "    }\n",
       "\n",
       "    .dataframe thead th {\n",
       "        text-align: right;\n",
       "    }\n",
       "</style>\n",
       "<table border=\"1\" class=\"dataframe\">\n",
       "  <thead>\n",
       "    <tr style=\"text-align: right;\">\n",
       "      <th></th>\n",
       "      <th>review</th>\n",
       "      <th>sentiment</th>\n",
       "    </tr>\n",
       "  </thead>\n",
       "  <tbody>\n",
       "    <tr>\n",
       "      <th>0</th>\n",
       "      <td>My family and I normally do not watch local movies for the simple reason that they are poorly made, they lack the depth, and just not worth our ti...</td>\n",
       "      <td>1</td>\n",
       "    </tr>\n",
       "    <tr>\n",
       "      <th>1</th>\n",
       "      <td>Believe it or not, this was at one time the worst movie I had ever seen. Since that time, I have seen many more movies that are worse (how is it p...</td>\n",
       "      <td>0</td>\n",
       "    </tr>\n",
       "    <tr>\n",
       "      <th>2</th>\n",
       "      <td>After some internet surfing, I found the \"Homefront\" series on DVD at ioffer.com. Before anyone gets excited, the DVD set I received was burned by...</td>\n",
       "      <td>0</td>\n",
       "    </tr>\n",
       "    <tr>\n",
       "      <th>3</th>\n",
       "      <td>One of the most unheralded great works of animation. Though it makes the most sophisticated use of the \"cut-out\" method of animation (a la \"South ...</td>\n",
       "      <td>1</td>\n",
       "    </tr>\n",
       "    <tr>\n",
       "      <th>4</th>\n",
       "      <td>It was the Sixties, and anyone with long hair and a hip, distant attitude could get money to make a movie. That's how Michael Sarne, director of t...</td>\n",
       "      <td>0</td>\n",
       "    </tr>\n",
       "    <tr>\n",
       "      <th>5</th>\n",
       "      <td>For my humanities quarter project for school, i chose to do human trafficking. After some research on the internet, i found this DVD and ordered i...</td>\n",
       "      <td>1</td>\n",
       "    </tr>\n",
       "    <tr>\n",
       "      <th>6</th>\n",
       "      <td>Arguebly Al Pacino's best role. He plays Tony Montana, A small time hood from Cuba turned into a rich and powerful crime lord in Miami, and he doe...</td>\n",
       "      <td>1</td>\n",
       "    </tr>\n",
       "    <tr>\n",
       "      <th>7</th>\n",
       "      <td>Being a big fan of Stanley Kubrick's Clockwork Orange there was of course \"no question about it\" that I had to see this one. However I put it off ...</td>\n",
       "      <td>1</td>\n",
       "    </tr>\n",
       "    <tr>\n",
       "      <th>8</th>\n",
       "      <td>I reached the end of this and I was almost shouting \"No, no, no, NO! It cannot end here! There are too many unanswered questions! The engagement o...</td>\n",
       "      <td>1</td>\n",
       "    </tr>\n",
       "    <tr>\n",
       "      <th>9</th>\n",
       "      <td>There is no doubt that Halloween is by far one of the best films ever not only in its genre but also outside.I love the films creepy atmosphere li...</td>\n",
       "      <td>1</td>\n",
       "    </tr>\n",
       "    <tr>\n",
       "      <th>10</th>\n",
       "      <td>Like almost everyone else, I became aware of this turkey on Mystery Science Theater 3000. It easily ranks as one of my favorite MST3K episodes of ...</td>\n",
       "      <td>0</td>\n",
       "    </tr>\n",
       "    <tr>\n",
       "      <th>11</th>\n",
       "      <td>Harvey Keital's best performance so far the new century. Very nicely photographed, a beautiful snap-shot of pre-Castro Cuba. The story revolves ar...</td>\n",
       "      <td>1</td>\n",
       "    </tr>\n",
       "    <tr>\n",
       "      <th>12</th>\n",
       "      <td>Bela Lugosi as creepy insane scientist who uses orchids to woo brides in order to steal life essence for aged wife. The midget in this film is hil...</td>\n",
       "      <td>0</td>\n",
       "    </tr>\n",
       "    <tr>\n",
       "      <th>13</th>\n",
       "      <td>OK this movie was by far worse then the first one and the first one sucked! The zombie make up was extremely fake! The acting is very poor! And it...</td>\n",
       "      <td>0</td>\n",
       "    </tr>\n",
       "    <tr>\n",
       "      <th>14</th>\n",
       "      <td>Flavia(Florinda Bolkan of \"Don't Torture a Duckling\" fame)is locked away in a convent of carnal desires by her father.Tired of all of the sadism s...</td>\n",
       "      <td>1</td>\n",
       "    </tr>\n",
       "    <tr>\n",
       "      <th>15</th>\n",
       "      <td>Rather like Paul Newman and Steve McQueen with their racing car movies this has all the appearance of a \"jollies\" project for Robert Redford, as h...</td>\n",
       "      <td>0</td>\n",
       "    </tr>\n",
       "    <tr>\n",
       "      <th>16</th>\n",
       "      <td>Well where do I begin my story?? I went to this movie tonight with a few friends not knowing more than the Actors that were in it, and that it was...</td>\n",
       "      <td>0</td>\n",
       "    </tr>\n",
       "    <tr>\n",
       "      <th>17</th>\n",
       "      <td>Mark Walhberg in a great role, idolises a rock star to the extent of knowing all his songs, imitating him to perfection, and dressing like him. Wh...</td>\n",
       "      <td>1</td>\n",
       "    </tr>\n",
       "    <tr>\n",
       "      <th>18</th>\n",
       "      <td>This is a poor, poor movie. Full of clichés, unrealistic moments: punching the air in celebration after putting a fire out, never mind that someon...</td>\n",
       "      <td>0</td>\n",
       "    </tr>\n",
       "    <tr>\n",
       "      <th>19</th>\n",
       "      <td>The SF premise isn't unique (although it pretty much was back then), but the focus is a completely different one than in other artificial reality ...</td>\n",
       "      <td>1</td>\n",
       "    </tr>\n",
       "  </tbody>\n",
       "</table>\n",
       "</div>"
      ],
      "text/plain": [
       "                                                                                                                                                   review  \\\n",
       "0   My family and I normally do not watch local movies for the simple reason that they are poorly made, they lack the depth, and just not worth our ti...   \n",
       "1   Believe it or not, this was at one time the worst movie I had ever seen. Since that time, I have seen many more movies that are worse (how is it p...   \n",
       "2   After some internet surfing, I found the \"Homefront\" series on DVD at ioffer.com. Before anyone gets excited, the DVD set I received was burned by...   \n",
       "3   One of the most unheralded great works of animation. Though it makes the most sophisticated use of the \"cut-out\" method of animation (a la \"South ...   \n",
       "4   It was the Sixties, and anyone with long hair and a hip, distant attitude could get money to make a movie. That's how Michael Sarne, director of t...   \n",
       "5   For my humanities quarter project for school, i chose to do human trafficking. After some research on the internet, i found this DVD and ordered i...   \n",
       "6   Arguebly Al Pacino's best role. He plays Tony Montana, A small time hood from Cuba turned into a rich and powerful crime lord in Miami, and he doe...   \n",
       "7   Being a big fan of Stanley Kubrick's Clockwork Orange there was of course \"no question about it\" that I had to see this one. However I put it off ...   \n",
       "8   I reached the end of this and I was almost shouting \"No, no, no, NO! It cannot end here! There are too many unanswered questions! The engagement o...   \n",
       "9   There is no doubt that Halloween is by far one of the best films ever not only in its genre but also outside.I love the films creepy atmosphere li...   \n",
       "10  Like almost everyone else, I became aware of this turkey on Mystery Science Theater 3000. It easily ranks as one of my favorite MST3K episodes of ...   \n",
       "11  Harvey Keital's best performance so far the new century. Very nicely photographed, a beautiful snap-shot of pre-Castro Cuba. The story revolves ar...   \n",
       "12  Bela Lugosi as creepy insane scientist who uses orchids to woo brides in order to steal life essence for aged wife. The midget in this film is hil...   \n",
       "13  OK this movie was by far worse then the first one and the first one sucked! The zombie make up was extremely fake! The acting is very poor! And it...   \n",
       "14  Flavia(Florinda Bolkan of \"Don't Torture a Duckling\" fame)is locked away in a convent of carnal desires by her father.Tired of all of the sadism s...   \n",
       "15  Rather like Paul Newman and Steve McQueen with their racing car movies this has all the appearance of a \"jollies\" project for Robert Redford, as h...   \n",
       "16  Well where do I begin my story?? I went to this movie tonight with a few friends not knowing more than the Actors that were in it, and that it was...   \n",
       "17  Mark Walhberg in a great role, idolises a rock star to the extent of knowing all his songs, imitating him to perfection, and dressing like him. Wh...   \n",
       "18  This is a poor, poor movie. Full of clichés, unrealistic moments: punching the air in celebration after putting a fire out, never mind that someon...   \n",
       "19  The SF premise isn't unique (although it pretty much was back then), but the focus is a completely different one than in other artificial reality ...   \n",
       "\n",
       "    sentiment  \n",
       "0           1  \n",
       "1           0  \n",
       "2           0  \n",
       "3           1  \n",
       "4           0  \n",
       "5           1  \n",
       "6           1  \n",
       "7           1  \n",
       "8           1  \n",
       "9           1  \n",
       "10          0  \n",
       "11          1  \n",
       "12          0  \n",
       "13          0  \n",
       "14          1  \n",
       "15          0  \n",
       "16          0  \n",
       "17          1  \n",
       "18          0  \n",
       "19          1  "
      ]
     },
     "execution_count": 4,
     "metadata": {},
     "output_type": "execute_result"
    }
   ],
   "source": [
    "data.head(20)"
   ]
  },
  {
   "cell_type": "code",
   "execution_count": 5,
   "metadata": {},
   "outputs": [
    {
     "data": {
      "text/html": [
       "<div>\n",
       "<style scoped>\n",
       "    .dataframe tbody tr th:only-of-type {\n",
       "        vertical-align: middle;\n",
       "    }\n",
       "\n",
       "    .dataframe tbody tr th {\n",
       "        vertical-align: top;\n",
       "    }\n",
       "\n",
       "    .dataframe thead th {\n",
       "        text-align: right;\n",
       "    }\n",
       "</style>\n",
       "<table border=\"1\" class=\"dataframe\">\n",
       "  <thead>\n",
       "    <tr style=\"text-align: right;\">\n",
       "      <th></th>\n",
       "      <th>review</th>\n",
       "    </tr>\n",
       "    <tr>\n",
       "      <th>sentiment</th>\n",
       "      <th></th>\n",
       "    </tr>\n",
       "  </thead>\n",
       "  <tbody>\n",
       "    <tr>\n",
       "      <th>0</th>\n",
       "      <td>25000</td>\n",
       "    </tr>\n",
       "    <tr>\n",
       "      <th>1</th>\n",
       "      <td>25000</td>\n",
       "    </tr>\n",
       "  </tbody>\n",
       "</table>\n",
       "</div>"
      ],
      "text/plain": [
       "           review\n",
       "sentiment        \n",
       "0           25000\n",
       "1           25000"
      ]
     },
     "execution_count": 5,
     "metadata": {},
     "output_type": "execute_result"
    }
   ],
   "source": [
    "data.groupby('sentiment').count()"
   ]
  },
  {
   "cell_type": "markdown",
   "metadata": {},
   "source": [
    "This is a balanced dataset, so an accuracy of 50% is the baseline. "
   ]
  },
  {
   "cell_type": "code",
   "execution_count": 6,
   "metadata": {},
   "outputs": [],
   "source": [
    "x = data.iloc[:, 0]\n",
    "y = data.iloc[:, 1]"
   ]
  },
  {
   "cell_type": "markdown",
   "metadata": {},
   "source": [
    "Split the data into train and test datasets."
   ]
  },
  {
   "cell_type": "code",
   "execution_count": 7,
   "metadata": {},
   "outputs": [],
   "source": [
    "train_x, test_x, train_y, test_y = train_test_split(x, y, random_state = 0)"
   ]
  },
  {
   "cell_type": "markdown",
   "metadata": {},
   "source": [
    "Use word embeddings to get some meaning from the words in a review. "
   ]
  },
  {
   "cell_type": "code",
   "execution_count": 8,
   "metadata": {},
   "outputs": [],
   "source": [
    "word_embeddings = Word2VecKeyedVectors.load_word2vec_format('crawl-300d-2M.vec', limit=500000)"
   ]
  },
  {
   "cell_type": "markdown",
   "metadata": {},
   "source": [
    "Here's just a simple example of how word embeddings can be used (as well as a quick check)."
   ]
  },
  {
   "cell_type": "code",
   "execution_count": 9,
   "metadata": {},
   "outputs": [
    {
     "name": "stdout",
     "output_type": "stream",
     "text": [
      "[('queen', 0.738545835018158)]\n"
     ]
    }
   ],
   "source": [
    "# calculate: (king - man) + woman = ?\n",
    "result = word_embeddings.most_similar(positive=['woman', 'king'], negative=['man'], topn=1)\n",
    "print(result)"
   ]
  },
  {
   "cell_type": "markdown",
   "metadata": {},
   "source": [
    "tokenize splits the text strings into separate words. \n",
    "vectorize applies the word embeddings."
   ]
  },
  {
   "cell_type": "code",
   "execution_count": 10,
   "metadata": {},
   "outputs": [],
   "source": [
    "def tokenize(text: str) -> Sequence[str]:\n",
    "    return re.findall('\\w+|\\S', text)\n",
    "\n",
    "def vectorize(text: str) -> np.ndarray:\n",
    "    vectors = []\n",
    "    for token in tokenize(text):\n",
    "        try:\n",
    "            vectors.append(word_embeddings.get_vector(token))\n",
    "        except:\n",
    "            pass\n",
    "    if len(vectors) == 0:\n",
    "        return np.zeros(word_embeddings.vectors.shape[1])\n",
    "    return np.sum(vectors, axis=0)"
   ]
  },
  {
   "cell_type": "markdown",
   "metadata": {},
   "source": [
    "WordEmbeddingClassifier fits, predicts if a review is possitive negative, and a probability that the review is positive."
   ]
  },
  {
   "cell_type": "code",
   "execution_count": 11,
   "metadata": {},
   "outputs": [],
   "source": [
    "class WordEmbeddingClassifier():\n",
    "    def __init__(self):\n",
    "        self.model = LogisticRegression()\n",
    "\n",
    "    def fit(self, x: Sequence[str], y: Sequence[int]):\n",
    "        x_vecs = np.vstack([vectorize(text) for text in x])\n",
    "        self.model.fit(x_vecs, y)\n",
    "        \n",
    "    def predict(self, x: Sequence[str]) -> Sequence[int]:\n",
    "        x_vecs = [vectorize(text) for text in x]\n",
    "        return self.model.predict(x_vecs)\n",
    "    \n",
    "    def predict_proba(self, x: Sequence[str]) -> Sequence[int]:\n",
    "        x_vecs = [vectorize(text) for text in x]\n",
    "        return self.model.predict_proba(x_vecs)\n",
    "    "
   ]
  },
  {
   "cell_type": "code",
   "execution_count": 12,
   "metadata": {},
   "outputs": [],
   "source": [
    "clf = WordEmbeddingClassifier()"
   ]
  },
  {
   "cell_type": "code",
   "execution_count": 13,
   "metadata": {},
   "outputs": [
    {
     "name": "stderr",
     "output_type": "stream",
     "text": [
      "/anaconda3/lib/python3.7/site-packages/sklearn/linear_model/logistic.py:433: FutureWarning: Default solver will be changed to 'lbfgs' in 0.22. Specify a solver to silence this warning.\n",
      "  FutureWarning)\n"
     ]
    }
   ],
   "source": [
    "clf.fit(train_x, train_y)"
   ]
  },
  {
   "cell_type": "code",
   "execution_count": 14,
   "metadata": {},
   "outputs": [],
   "source": [
    "pred_y = clf.predict(test_x)"
   ]
  },
  {
   "cell_type": "code",
   "execution_count": 15,
   "metadata": {},
   "outputs": [],
   "source": [
    "pred_proba_y = clf.predict_proba(test_x)"
   ]
  },
  {
   "cell_type": "code",
   "execution_count": 16,
   "metadata": {},
   "outputs": [
    {
     "data": {
      "text/plain": [
       "0.8672"
      ]
     },
     "execution_count": 16,
     "metadata": {},
     "output_type": "execute_result"
    }
   ],
   "source": [
    "accuracy_score(test_y, pred_y)"
   ]
  },
  {
   "cell_type": "code",
   "execution_count": 17,
   "metadata": {},
   "outputs": [],
   "source": [
    "pred_proba_y = pred_proba_y[:,1]"
   ]
  },
  {
   "cell_type": "code",
   "execution_count": 18,
   "metadata": {},
   "outputs": [],
   "source": [
    "roc_auc = roc_auc_score(test_y, pred_proba_y)"
   ]
  },
  {
   "cell_type": "code",
   "execution_count": 19,
   "metadata": {},
   "outputs": [
    {
     "data": {
      "text/plain": [
       "<matplotlib.legend.Legend at 0x1a4dfdd4e0>"
      ]
     },
     "execution_count": 19,
     "metadata": {},
     "output_type": "execute_result"
    },
    {
     "data": {
      "image/png": "[encoded data removed]",
      "text/plain": [
       "<Figure size 432x288 with 1 Axes>"
      ]
     },
     "metadata": {
      "needs_background": "light"
     },
     "output_type": "display_data"
    }
   ],
   "source": [
    "fpr, tpr, thresholds = roc_curve(test_y, pred_proba_y)\n",
    "\n",
    "plt.plot(fpr, tpr)\n",
    "plt.plot([0, 1], [0, 1],'k--', label=' AUC score = %0.2f' %roc_auc)\n",
    "plt.xlabel('False Positive Rate')\n",
    "plt.ylabel('True Positive Rate')\n",
    "plt.title('Receiver operating characteristic')\n",
    "plt.legend(loc='lower right')"
   ]
  },
  {
   "cell_type": "code",
   "execution_count": 20,
   "metadata": {},
   "outputs": [
    {
     "data": {
      "text/plain": [
       "array([[5253,  850],\n",
       "       [ 810, 5587]])"
      ]
     },
     "execution_count": 20,
     "metadata": {},
     "output_type": "execute_result"
    }
   ],
   "source": [
    "confusion_matrix(test_y, pred_y)"
   ]
  }
 ],
 "metadata": {
  "kernelspec": {
   "display_name": "Python 3",
   "language": "python",
   "name": "python3"
  },
  "language_info": {
   "codemirror_mode": {
    "name": "ipython",
    "version": 3
   },
   "file_extension": ".py",
   "mimetype": "text/x-python",
   "name": "python",
   "nbconvert_exporter": "python",
   "pygments_lexer": "ipython3",
   "version": "3.7.3"
  }
 },
 "nbformat": 4,
 "nbformat_minor": 2
}
